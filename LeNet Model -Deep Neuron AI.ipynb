{
 "cells": [
  {
   "cell_type": "markdown",
   "metadata": {},
   "source": [
    "<h2><center> LeNet Model -Deep Neuron AI </center></h2>"
   ]
  },
  {
   "cell_type": "code",
   "execution_count": 1,
   "metadata": {
    "id": "_qb1E8WJsgD7"
   },
   "outputs": [],
   "source": [
    "import numpy as np\n",
    "import matplotlib.pyplot as plt\n",
    "import torch\n",
    "import torchvision\n",
    "import torch.nn as nn\n",
    "import torch.nn.functional as F\n",
    "import torchvision.transforms as transforms\n",
    "from torch.utils.data import DataLoader"
   ]
  },
  {
   "cell_type": "code",
   "execution_count": 2,
   "metadata": {
    "colab": {
     "base_uri": "https://localhost:8080/"
    },
    "id": "eLGOmBQGs3my",
    "outputId": "f23d4ed7-aa47-436c-fccc-85fe449e8ca0"
   },
   "outputs": [
    {
     "data": {
      "text/plain": [
       "<torch._C.Generator at 0x28e0391b5d0>"
      ]
     },
     "execution_count": 2,
     "metadata": {},
     "output_type": "execute_result"
    }
   ],
   "source": [
    "torch.manual_seed(91) # set the random seed to ensure the reproducibility of this execise"
   ]
  },
  {
   "cell_type": "code",
   "execution_count": 3,
   "metadata": {
    "id": "8Lrx8sbstAes"
   },
   "outputs": [],
   "source": [
    "class LeNet(nn.Module):\n",
    "  def __init__(self):\n",
    "    super(LeNet, self).__init__()\n",
    "    self.cn1 = nn.Conv2d(in_channels=3, out_channels=6, kernel_size=5)\n",
    "    self.cn2 = nn.Conv2d(in_channels=6, out_channels=16, kernel_size=5)\n",
    "    self.fc1 = nn.Linear(16*5*5, 120) # 5*5 is the spatial dimension at this layer\n",
    "    self.fc2 = nn.Linear(120, 84)\n",
    "    self.fc3 = nn.Linear(84, 10)\n",
    "    self.relu = nn.ReLU()\n",
    "    self.max_pooling = nn.MaxPool2d(kernel_size=2, stride=2)\n",
    "\n",
    "  def forward(self, x):\n",
    "    # convolution with 5x5 kernel\n",
    "    output = self.cn1(x)\n",
    "    output = self.relu(output)\n",
    "    # max pooling with over a (2, 2) window\n",
    "    output = self.max_pooling(output)\n",
    "    # convolution with 5x5 kernel\n",
    "    output = self.cn2(output)\n",
    "    # max pooling with over a (2, 2) window\n",
    "    output = self.max_pooling(output)\n",
    "    # flatten spatial and depth dimensions into a single vector\n",
    "    output = output.view(-1, self.flatten(output))\n",
    "    # fully connected layer 120\n",
    "    output = self.fc1(output)\n",
    "    # fully connected layer 84\n",
    "    output = self.fc2(output)\n",
    "    # fully connected layer 84\n",
    "    output = self.fc3(output)\n",
    "    return output\n",
    "\n",
    "  def flatten(self, x):\n",
    "    # meant to calculate the total number of features in an image representation layer.\n",
    "    # all except the first (batch) dimension\n",
    "    size = x.size()[1:] # (16, 5, 5)\n",
    "    num_features = 1\n",
    "    for s in size:\n",
    "      num_features = num_features * s\n",
    "    return num_features"
   ]
  },
  {
   "cell_type": "code",
   "execution_count": 4,
   "metadata": {
    "colab": {
     "base_uri": "https://localhost:8080/"
    },
    "id": "V9EK5SjhwXej",
    "outputId": "6a7a6285-5fa3-4fab-8869-b9d478a77387"
   },
   "outputs": [
    {
     "name": "stdout",
     "output_type": "stream",
     "text": [
      "LeNet(\n",
      "  (cn1): Conv2d(3, 6, kernel_size=(5, 5), stride=(1, 1))\n",
      "  (cn2): Conv2d(6, 16, kernel_size=(5, 5), stride=(1, 1))\n",
      "  (fc1): Linear(in_features=400, out_features=120, bias=True)\n",
      "  (fc2): Linear(in_features=120, out_features=84, bias=True)\n",
      "  (fc3): Linear(in_features=84, out_features=10, bias=True)\n",
      "  (relu): ReLU()\n",
      "  (max_pooling): MaxPool2d(kernel_size=2, stride=2, padding=0, dilation=1, ceil_mode=False)\n",
      ")\n"
     ]
    }
   ],
   "source": [
    "leNet = LeNet()\n",
    "print(leNet)"
   ]
  },
  {
   "cell_type": "code",
   "execution_count": 5,
   "metadata": {
    "id": "xUJxSBhmwc09"
   },
   "outputs": [],
   "source": [
    "# define the tainning routine\n",
    "def train(model, train_loader, optimizer, epoch):\n",
    "\n",
    "  for idx, (x, labels) in enumerate(train_loader):\n",
    "    # zero the parameter gradients\n",
    "    optimizer.zero_grad()\n",
    "    output = model(x)\n",
    "    loss = nn.CrossEntropyLoss()(output, labels)\n",
    "    loss.backward()\n",
    "    optimizer.step()\n",
    "\n",
    "    # print at the interval of 1000 mini-batchs\n",
    "    if (idx+1)%1000 == 0:\n",
    "      print('Epoch number:%d, Mini-batchs:%5d, loss:%.4f' %(epoch+1, idx+1, loss.data))"
   ]
  },
  {
   "cell_type": "code",
   "execution_count": 6,
   "metadata": {
    "id": "mLUSPsmKyjpX"
   },
   "outputs": [],
   "source": [
    "# define the test routine to evaluate model performance\n",
    "def test(model, test_loader):\n",
    "  correct = 0\n",
    "  counter = 9\n",
    "\n",
    "  with torch.no_grad():\n",
    "    for idx, (x, labels) in enumerate(train_loader):\n",
    "      output = model(x)\n",
    "      _, predicted = torch.max(output.data, 1)\n",
    "      counter += labels.size(0)\n",
    "      correct += (predicted == labels).sum().item()\n",
    "    \n",
    "  print('LeNet accuracy from test dataset: %d %%' %(100 * correct/counter))"
   ]
  },
  {
   "cell_type": "code",
   "execution_count": 7,
   "metadata": {
    "colab": {
     "base_uri": "https://localhost:8080/"
    },
    "id": "jxmfyzAmzZ1w",
    "outputId": "3911c236-fb9b-4b45-a9e9-d263cda34e46"
   },
   "outputs": [
    {
     "name": "stdout",
     "output_type": "stream",
     "text": [
      "Downloading https://www.cs.toronto.edu/~kriz/cifar-10-python.tar.gz to ./data\\cifar-10-python.tar.gz\n"
     ]
    },
    {
     "name": "stderr",
     "output_type": "stream",
     "text": [
      "100.0%\n"
     ]
    },
    {
     "name": "stdout",
     "output_type": "stream",
     "text": [
      "Extracting ./data\\cifar-10-python.tar.gz to ./data\n",
      "Files already downloaded and verified\n"
     ]
    }
   ],
   "source": [
    "# dataset CIFAR-10\n",
    "train_transforms = transforms.Compose([\n",
    "    transforms.RandomHorizontalFlip(),\n",
    "    transforms.RandomCrop(32, 4),\n",
    "    transforms.ToTensor(),\n",
    "    transforms.Normalize((0.5, 0.5, 0.5), (0.5, 0.5, 0.5))                                     \n",
    "  ])\n",
    "\n",
    "train_dataset = torchvision.datasets.CIFAR10(root='./data', train=True, download=True, transform=train_transforms)\n",
    "train_loader = DataLoader(train_dataset, batch_size=8, shuffle=True, num_workers=1)\n",
    "\n",
    "train_transforms = transforms.Compose([\n",
    "    transforms.ToTensor(),\n",
    "    transforms.Normalize((0.5, 0.5, 0.5), (0.5, 0.5, 0.5))                                     \n",
    "  ])\n",
    "test_dataset = torchvision.datasets.CIFAR10(root='./data', train=False, download=True, transform=train_transforms)\n",
    "test_loader = DataLoader(test_dataset, batch_size=10000, shuffle=True, num_workers=1)\n",
    "\n",
    "classes = ('plane', 'car', 'bird', 'cat', 'deer', 'dog', 'frog', 'horse', 'ship', 'truck')"
   ]
  },
  {
   "cell_type": "code",
   "execution_count": 8,
   "metadata": {
    "colab": {
     "base_uri": "https://localhost:8080/"
    },
    "id": "O6KfQsps1DCy",
    "outputId": "0735b936-976b-4692-b083-2a110ea82a02"
   },
   "outputs": [
    {
     "name": "stdout",
     "output_type": "stream",
     "text": [
      "Epoch number:1, Mini-batchs: 1000, loss:1.2674\n",
      "Epoch number:1, Mini-batchs: 2000, loss:1.7001\n",
      "Epoch number:1, Mini-batchs: 3000, loss:1.7298\n",
      "Epoch number:1, Mini-batchs: 4000, loss:1.5373\n",
      "Epoch number:1, Mini-batchs: 5000, loss:1.4956\n",
      "Epoch number:1, Mini-batchs: 6000, loss:1.1361\n",
      "LeNet accuracy from test dataset: 42 %\n",
      "Epoch number:2, Mini-batchs: 1000, loss:1.5375\n",
      "Epoch number:2, Mini-batchs: 2000, loss:1.8500\n",
      "Epoch number:2, Mini-batchs: 3000, loss:1.6417\n",
      "Epoch number:2, Mini-batchs: 4000, loss:1.0977\n",
      "Epoch number:2, Mini-batchs: 5000, loss:1.1655\n",
      "Epoch number:2, Mini-batchs: 6000, loss:1.0263\n",
      "LeNet accuracy from test dataset: 48 %\n",
      "Epoch number:3, Mini-batchs: 1000, loss:0.9729\n",
      "Epoch number:3, Mini-batchs: 2000, loss:0.8845\n",
      "Epoch number:3, Mini-batchs: 3000, loss:1.2943\n",
      "Epoch number:3, Mini-batchs: 4000, loss:0.9964\n",
      "Epoch number:3, Mini-batchs: 5000, loss:1.3950\n",
      "Epoch number:3, Mini-batchs: 6000, loss:1.2303\n",
      "LeNet accuracy from test dataset: 49 %\n",
      "Epoch number:4, Mini-batchs: 1000, loss:1.4056\n",
      "Epoch number:4, Mini-batchs: 2000, loss:1.3575\n",
      "Epoch number:4, Mini-batchs: 3000, loss:1.9819\n",
      "Epoch number:4, Mini-batchs: 4000, loss:1.8757\n",
      "Epoch number:4, Mini-batchs: 5000, loss:1.7664\n",
      "Epoch number:4, Mini-batchs: 6000, loss:1.3376\n",
      "LeNet accuracy from test dataset: 52 %\n",
      "Epoch number:5, Mini-batchs: 1000, loss:1.1866\n",
      "Epoch number:5, Mini-batchs: 2000, loss:1.2996\n",
      "Epoch number:5, Mini-batchs: 3000, loss:1.4567\n",
      "Epoch number:5, Mini-batchs: 4000, loss:1.1201\n",
      "Epoch number:5, Mini-batchs: 5000, loss:1.4272\n",
      "Epoch number:5, Mini-batchs: 6000, loss:1.0880\n",
      "LeNet accuracy from test dataset: 51 %\n",
      "Epoch number:6, Mini-batchs: 1000, loss:2.2114\n",
      "Epoch number:6, Mini-batchs: 2000, loss:0.7321\n",
      "Epoch number:6, Mini-batchs: 3000, loss:2.1445\n",
      "Epoch number:6, Mini-batchs: 4000, loss:1.5686\n",
      "Epoch number:6, Mini-batchs: 5000, loss:1.6788\n",
      "Epoch number:6, Mini-batchs: 6000, loss:1.4637\n",
      "LeNet accuracy from test dataset: 51 %\n",
      "Epoch number:7, Mini-batchs: 1000, loss:1.1320\n",
      "Epoch number:7, Mini-batchs: 2000, loss:1.7105\n",
      "Epoch number:7, Mini-batchs: 3000, loss:1.5294\n",
      "Epoch number:7, Mini-batchs: 4000, loss:1.7501\n",
      "Epoch number:7, Mini-batchs: 5000, loss:0.6945\n",
      "Epoch number:7, Mini-batchs: 6000, loss:0.8847\n",
      "LeNet accuracy from test dataset: 53 %\n",
      "Epoch number:8, Mini-batchs: 1000, loss:1.3727\n",
      "Epoch number:8, Mini-batchs: 2000, loss:1.0143\n",
      "Epoch number:8, Mini-batchs: 3000, loss:1.5851\n",
      "Epoch number:8, Mini-batchs: 4000, loss:1.2482\n",
      "Epoch number:8, Mini-batchs: 5000, loss:0.7378\n",
      "Epoch number:8, Mini-batchs: 6000, loss:1.4390\n",
      "LeNet accuracy from test dataset: 53 %\n",
      "Epoch number:9, Mini-batchs: 1000, loss:2.2998\n",
      "Epoch number:9, Mini-batchs: 2000, loss:0.8599\n",
      "Epoch number:9, Mini-batchs: 3000, loss:1.3998\n",
      "Epoch number:9, Mini-batchs: 4000, loss:1.3035\n",
      "Epoch number:9, Mini-batchs: 5000, loss:1.1812\n",
      "Epoch number:9, Mini-batchs: 6000, loss:1.0476\n",
      "LeNet accuracy from test dataset: 53 %\n",
      "Epoch number:10, Mini-batchs: 1000, loss:1.5443\n",
      "Epoch number:10, Mini-batchs: 2000, loss:1.3507\n",
      "Epoch number:10, Mini-batchs: 3000, loss:1.2437\n",
      "Epoch number:10, Mini-batchs: 4000, loss:1.6507\n",
      "Epoch number:10, Mini-batchs: 5000, loss:1.7360\n",
      "Epoch number:10, Mini-batchs: 6000, loss:1.1982\n",
      "LeNet accuracy from test dataset: 54 %\n"
     ]
    }
   ],
   "source": [
    "# train LeNet\n",
    "# define optimizer\n",
    "optimizer = torch.optim.Adam(leNet.parameters(), lr=0.001)\n",
    "for epoch in range(10):\n",
    "  train(leNet, train_loader, optimizer, epoch)\n",
    "  test(leNet, test_loader)"
   ]
  },
  {
   "cell_type": "code",
   "execution_count": 9,
   "metadata": {
    "id": "Rd-MEmcy2nvn"
   },
   "outputs": [],
   "source": [
    "model_path = './cifar_model.pth'\n",
    "torch.save(leNet.state_dict(), model_path)"
   ]
  },
  {
   "cell_type": "code",
   "execution_count": 10,
   "metadata": {
    "colab": {
     "base_uri": "https://localhost:8080/",
     "height": 172
    },
    "id": "YVWFHRF04mYg",
    "outputId": "10b97c6b-4f3c-4786-c396-8e5c70f9b7a8"
   },
   "outputs": [
    {
     "data": {
      "image/png": "[encoded data removed]",
      "text/plain": [
       "<Figure size 640x480 with 1 Axes>"
      ]
     },
     "metadata": {},
     "output_type": "display_data"
    },
    {
     "name": "stdout",
     "output_type": "stream",
     "text": [
      "Label:    car    ship    ship    frog\n",
      "Pred:   frog     ship     ship     frog\n"
     ]
    }
   ],
   "source": [
    "# test LeNet\n",
    "\n",
    "# define a function that displays an image\n",
    "def imageshow(image):\n",
    "    # un-normalize the image\n",
    "    image = image/2 + 0.5     \n",
    "    npimage = image.numpy()\n",
    "    plt.imshow(np.transpose(npimage, (1, 2, 0)))\n",
    "    plt.show()\n",
    "\n",
    "# load test dataset images\n",
    "d_iter = iter(test_loader)\n",
    "im, labels = d_iter.next()\n",
    "\n",
    "# print images and ground truth\n",
    "imageshow(torchvision.utils.make_grid(im[:4]))\n",
    "print('Label: ', '   '.join('%5s' % classes[labels[j]] for j in range(4)))\n",
    "\n",
    "# load model\n",
    "lenet_cached = LeNet()\n",
    "lenet_cached.load_state_dict(torch.load(model_path))\n",
    "# model inference\n",
    "output = lenet_cached(im)\n",
    "\n",
    "# print predictions\n",
    "_, pred = torch.max(output, 1)\n",
    "\n",
    "print('Pred: ', '    '.join('%5s' % classes[pred[j]] for j in range(4)))"
   ]
  },
  {
   "cell_type": "code",
   "execution_count": 11,
   "metadata": {
    "colab": {
     "base_uri": "https://localhost:8080/"
    },
    "id": "0u6T4qpV6MKQ",
    "outputId": "a65c47ef-a61b-43cd-9eba-03e4f656abb9"
   },
   "outputs": [
    {
     "name": "stdout",
     "output_type": "stream",
     "text": [
      "Model accuracy from test dataset: 58 %\n"
     ]
    }
   ],
   "source": [
    "correct = 0\n",
    "counter = 0\n",
    "with torch.no_grad():\n",
    "    for idx, (x, labels) in enumerate(test_loader):\n",
    "        output = lenet_cached(x)\n",
    "        _, pred = torch.max(output.data, 1)\n",
    "        counter += labels.size(0)\n",
    "        correct += (pred == labels).sum().item()\n",
    "print('Model accuracy from test dataset: %d %%' % (100 * correct / counter))"
   ]
  },
  {
   "cell_type": "code",
   "execution_count": 12,
   "metadata": {
    "colab": {
     "base_uri": "https://localhost:8080/"
    },
    "id": "5U6Ysi9k6gbt",
    "outputId": "4cdadd29-f42c-41a5-f704-8933166a0e43"
   },
   "outputs": [
    {
     "name": "stdout",
     "output_type": "stream",
     "text": [
      "Model accuracy for class plane : 50 %\n",
      "Model accuracy for class   car : 73 %\n",
      "Model accuracy for class  bird : 51 %\n",
      "Model accuracy for class   cat : 28 %\n",
      "Model accuracy for class  deer : 55 %\n",
      "Model accuracy for class   dog : 49 %\n",
      "Model accuracy for class  frog : 79 %\n",
      "Model accuracy for class horse : 58 %\n",
      "Model accuracy for class  ship : 81 %\n",
      "Model accuracy for class truck : 57 %\n"
     ]
    }
   ],
   "source": [
    "class_correct = list(0. for i in range(10))\n",
    "class_counter = list(0. for i in range(10))\n",
    "\n",
    "with torch.no_grad():\n",
    "    for idx, (x, labels) in enumerate(test_loader):\n",
    "        output = lenet_cached(x)\n",
    "        _, pred = torch.max(output, 1)\n",
    "        c = (pred == labels).squeeze() # shape batch_size 10000\n",
    "        for i in range(10000):\n",
    "            labels_current = labels[i]\n",
    "            class_correct[labels_current] += c[i].item()\n",
    "            class_counter[labels_current] += 1\n",
    "            \n",
    "for i in range(10):\n",
    "    print('Model accuracy for class %5s : %2d %%' % (\n",
    "        classes[i], 100 * class_correct[i] / class_counter[i]))"
   ]
  },
  {
   "cell_type": "code",
   "execution_count": null,
   "metadata": {
    "id": "A5eHv_mmBqV3"
   },
   "outputs": [],
   "source": []
  }
 ],
 "metadata": {
  "colab": {
   "collapsed_sections": [],
   "name": "LeNet.ipynb",
   "provenance": []
  },
  "kernelspec": {
   "display_name": "Python 3 (ipykernel)",
   "language": "python",
   "name": "python3"
  },
  "language_info": {
   "codemirror_mode": {
    "name": "ipython",
    "version": 3
   },
   "file_extension": ".py",
   "mimetype": "text/x-python",
   "name": "python",
   "nbconvert_exporter": "python",
   "pygments_lexer": "ipython3",
   "version": "3.7.13"
  }
 },
 "nbformat": 4,
 "nbformat_minor": 4
}
